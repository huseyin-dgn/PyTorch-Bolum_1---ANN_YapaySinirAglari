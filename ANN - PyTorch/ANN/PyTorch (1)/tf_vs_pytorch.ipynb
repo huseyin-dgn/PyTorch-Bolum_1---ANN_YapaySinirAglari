{
 "cells": [
  {
   "cell_type": "markdown",
   "id": "c0458de0",
   "metadata": {},
   "source": [
    "# 🔁 TensorFlow'dan PyTorch'a Geçiş Rehberi\n",
    "\n",
    "## 🎯 Neden PyTorch?\n",
    "- **Dinamik Hesaplama Grafiği (Dynamic Computation Graph)**: Kod çalıştıkça grafik oluşturulur.\n",
    "- **Pythonic**: Doğal Python kod yapısına sahiptir.\n",
    "- **Kolay Hata Ayıklama**: Standart Python debugger'lar (örn. `pdb`) ile debug yapılabilir.\n",
    "- **Araştırmalarda Yaygın Kullanım**: Birçok makale, deney ve araştırma PyTorch kullanılarak yazılmıştır.\n",
    "- **Esnek Eğitim Döngüleri**: Eğitim sürecini istediğiniz gibi özelleştirebilirsiniz.\n",
    "\n",
    "---\n",
    "\n",
    "## ⚔️ PyTorch vs TensorFlow: Genel Karşılaştırma\n",
    "\n",
    "| Özellik                 | TensorFlow                         | PyTorch                            |\n",
    "|-------------------------|-------------------------------------|-------------------------------------|\n",
    "| Hesaplama Grafiği       | Statik (TF 1.x), dinamik (TF 2.x)  | Dinamik (başından beri)            |\n",
    "| Yazım Stili             | Kütüphane gibi                     | Python dili gibi                   |\n",
    "| Debug                   | Görece zor                         | Kolay (doğrudan Python stacktrace) |\n",
    "| Eğitim Süreci           | `.fit()` ile yüksek seviyeli       | Eğitim döngüsünü sen yazarsın      |\n",
    "| Kullanım Alanı          | Üretim, mobil, web                 | Araştırma, deney, hızlı prototipleme |\n",
    "| GPU Kullanımı           | Otomatik                           | Manuel (`.to(device)`) ile         |\n",
    "\n",
    "---\n",
    "\n",
    "\n"
   ]
  },
  {
   "cell_type": "markdown",
   "id": "c4b1809d",
   "metadata": {},
   "source": [
    "# 🔢 Tensor Nedir?\n",
    "\n",
    "## 🧠 Tanım\n",
    "\n",
    "Bir **tensor**, sayıların çok boyutlu diziler (n-dimensional array) halinde tutulduğu matematiksel yapılardır.  \n",
    "Makine öğrenmesi ve derin öğrenme modellerinde verileri temsil etmenin temel yoludur.\n",
    "\n",
    "\n",
    "\n",
    "## 📏 Boyutlara (Rank) Göre Tensorlar\n",
    "\n",
    "| Tensor Tipi     | Açıklama                         | Örnek (Python benzeri)      |\n",
    "|------------------|----------------------------------|------------------------------|\n",
    "| Skalar (0D)      | Tek bir sayı                    | `5`                          |\n",
    "| Vektör (1D)      | Bir sayı dizisi                 | `[1, 2, 3]`                  |\n",
    "| Matris (2D)      | Sayılardan oluşan tablo         | `[[1, 2], [3, 4]]`           |\n",
    "| 3D Tensor        | Matrislerin dizisi              | `[[[1,2], [3,4]], [[5,6], [7,8]]]` |\n",
    "| n-D Tensor       | n boyutlu yapı                  | Örn: Görseller → (Batch, Kanal, Yükseklik, Genişlik)\n",
    "\n",
    "\n",
    "\n",
    "## 🎨 Görsel Temsil\n",
    "\n",
    "- 📍 Skalar: tek nokta  \n",
    "- 📈 Vektör: düz çizgi  \n",
    "- 🧮 Matris: 2D tablo  \n",
    "- 📦 3D Tensor: birden çok tablo (örneğin renkli resim: RGB kanalları)\n",
    "\n",
    "\n",
    "\n",
    "## 🤖 Neden Tensor Kullanıyoruz?\n",
    "\n",
    "- Tüm veriler (resimler, sesler, metinler) **tensor** olarak temsil edilebilir.\n",
    "- GPU'lar, tensor yapıları ile paralel işlemleri çok hızlı yapar.\n",
    "- Tensor'lar üzerinde matematiksel işlemler çok kolaydır (çarpma, toplama, dönüşüm).\n",
    "\n",
    "---\n"
   ]
  },
  {
   "cell_type": "markdown",
   "id": "b4a479ca",
   "metadata": {},
   "source": [
    "## 🛠 Tensor Oluşturma (PyTorch vs TensorFlow)"
   ]
  },
  {
   "cell_type": "code",
   "execution_count": 1,
   "id": "f8f643dd",
   "metadata": {},
   "outputs": [
    {
     "name": "stdout",
     "output_type": "stream",
     "text": [
      "(2, 2)\n"
     ]
    }
   ],
   "source": [
    "import tensorflow as tf\n",
    "\n",
    "x = tf.constant([[1, 2], [3, 4]])\n",
    "print(x.shape)"
   ]
  },
  {
   "cell_type": "code",
   "execution_count": 2,
   "id": "fde06b41",
   "metadata": {},
   "outputs": [
    {
     "name": "stdout",
     "output_type": "stream",
     "text": [
      "(2, 2)\n"
     ]
    }
   ],
   "source": [
    "import torch \n",
    "\n",
    "a = torch.tensor([[1.0,2.0] , [3.0,4.0]])\n",
    "print(x.shape)"
   ]
  },
  {
   "cell_type": "markdown",
   "id": "4741c237",
   "metadata": {},
   "source": [
    "---\n"
   ]
  },
  {
   "cell_type": "markdown",
   "id": "3728c208",
   "metadata": {},
   "source": [
    "# 📐 2. Tensor Bilgisi (Boyut, Tip, Cihaz)\n",
    "\n"
   ]
  },
  {
   "cell_type": "code",
   "execution_count": null,
   "id": "719561cd",
   "metadata": {},
   "outputs": [
    {
     "name": "stdout",
     "output_type": "stream",
     "text": [
      "(2, 2)\n",
      "<dtype: 'int32'>\n",
      "/job:localhost/replica:0/task:0/device:CPU:0\n"
     ]
    }
   ],
   "source": [
    "# Tensorflow \n",
    "\n",
    "print(x.shape)\n",
    "print(x.dtype)\n",
    "print(x.device)\n",
    "\n",
    "## **  Çünkü biz 1, 2, 3, 4 gibi tam sayı verdik, TensorFlow bunu int32 kabul etti. Float vermedikçe float yapmaz."
   ]
  },
  {
   "cell_type": "code",
   "execution_count": null,
   "id": "93fd5660",
   "metadata": {},
   "outputs": [
    {
     "name": "stdout",
     "output_type": "stream",
     "text": [
      "torch.Size([2, 2])\n",
      "torch.float32\n",
      "cpu\n"
     ]
    }
   ],
   "source": [
    "# Pytorch\n",
    "\n",
    "print(a.shape)\n",
    "print(a.dtype)\n",
    "print(a.device)\n",
    "\n",
    "\n",
    "## **  Çünkü PyTorch her tensorü varsayılan olarak float32 yapar, integer versen bile!"
   ]
  },
  {
   "cell_type": "markdown",
   "id": "72ede88b",
   "metadata": {},
   "source": [
    " ### 🧠 Kısa Özet\n",
    "* TensorFlow verdiğin değere göre dtype belirler.\n",
    "\n",
    "* PyTorch her şeyi float32 varsayar.\n",
    "\n",
    "* Kontrol sende: dtype=... kullanarak her iki tarafta da açıkça belirtebilirsin."
   ]
  },
  {
   "cell_type": "markdown",
   "id": "c92d1d71",
   "metadata": {},
   "source": [
    "---\n",
    "# 🔁  Şekil Değiştirme (Reshape)"
   ]
  },
  {
   "cell_type": "code",
   "execution_count": 10,
   "id": "ef5c828d",
   "metadata": {},
   "outputs": [
    {
     "name": "stdout",
     "output_type": "stream",
     "text": [
      "(4,)\n"
     ]
    }
   ],
   "source": [
    "import tensorflow as tf\n",
    "x = tf.constant([[1,2] , [3,4]])\n",
    "reshaped_tf = tf.reshape(x,(4,))\n",
    "print(reshaped_tf.shape)"
   ]
  },
  {
   "cell_type": "code",
   "execution_count": 15,
   "id": "9d4e62fc",
   "metadata": {},
   "outputs": [
    {
     "name": "stdout",
     "output_type": "stream",
     "text": [
      "torch.Size([4])\n"
     ]
    }
   ],
   "source": [
    "import torch as t \n",
    "x = t.tensor([[1,2] , [3,4]])\n",
    "reshaped_t = x.reshape(4)\n",
    "print(reshaped_t.shape)"
   ]
  },
  {
   "cell_type": "markdown",
   "id": "dda90e47",
   "metadata": {},
   "source": [
    "----\n",
    "# 🔎 2. Görünüm Değiştirme (View) (Sadece PyTorch)"
   ]
  },
  {
   "cell_type": "markdown",
   "id": "adf2e15a",
   "metadata": {},
   "source": [
    "## 🔎 view() Nedir? Ne İşe Yarar?\n",
    "###  📌 Kısa Tanım:\n",
    "* PyTorch’taki view() fonksiyonu, bir tensörün şeklini (boyutlarını) değiştirir ama veriye dokunmaz.\n"
   ]
  },
  {
   "cell_type": "markdown",
   "id": "a1fac605",
   "metadata": {},
   "source": [
    "➕ Bellekte yeni kopya oluşturmaz\n",
    "\n",
    "\n",
    "🔁 Sadece farklı bir görünüm verir"
   ]
  },
  {
   "cell_type": "markdown",
   "id": "71dee8e4",
   "metadata": {},
   "source": [
    "## 🧠 Neden reshape() varken view() var?\n",
    "* reshape() hem kopya hem görünüm dönebilir (duruma göre).\n",
    "\n",
    "* view() ise mutlaka sadece görünüm (view) döndürür.\n",
    "\n",
    "Bu, view()'u daha hafif ve hızlı hale getirir (ama bir şartla: tensor contiguous olmalı).\n",
    "\n",
    "contiguous = Sıralı , düzenli ardışık veri."
   ]
  },
  {
   "cell_type": "code",
   "execution_count": 18,
   "id": "c7239c5d",
   "metadata": {},
   "outputs": [
    {
     "name": "stdout",
     "output_type": "stream",
     "text": [
      "Orjişnal Tensor\n",
      "tensor([[1, 2],\n",
      "        [3, 4]])\n"
     ]
    }
   ],
   "source": [
    "x = torch.tensor([[1, 2], [3, 4]])\n",
    "print(\"Orjişnal Tensor\")\n",
    "print(x)"
   ]
  },
  {
   "cell_type": "code",
   "execution_count": 20,
   "id": "8bd04b88",
   "metadata": {},
   "outputs": [
    {
     "name": "stdout",
     "output_type": "stream",
     "text": [
      "view ile yeniden şekillendirilmiş tensor:\n",
      "tensor([1, 2, 3, 4])\n"
     ]
    }
   ],
   "source": [
    "y = x.view(4)\n",
    "print(\"view ile yeniden şekillendirilmiş tensor:\")\n",
    "print(y)"
   ]
  },
  {
   "cell_type": "markdown",
   "id": "278cbe21",
   "metadata": {},
   "source": [
    "--- \n",
    "# 🎈 3. Boyut Ekleme - unsqueeze"
   ]
  },
  {
   "cell_type": "markdown",
   "id": "60f188c3",
   "metadata": {},
   "source": [
    "* Bu, PyTorch’ta en çok kullanılan tensor fonksiyonlarından biridir, çünkü derin öğrenme modellerinde doğru boyutlandırma çok önemlidir.,\n"
   ]
  },
  {
   "cell_type": "markdown",
   "id": "8005919b",
   "metadata": {},
   "source": [
    "## 🎈 unsqueeze() Nedir?\n",
    "\n",
    "* unsqueeze(), bir tensöre yeni bir boyut (dimension) ekler.\n",
    "\n",
    "* Bu yeni boyutun boyutu 1 olur (dim=1 gibi).\n",
    "\n",
    "🔹 Basitçe:\n",
    "unsqueeze(dim) → verilen eksene (axis) 1 boyutunda yeni bir eksen ekler."
   ]
  },
  {
   "cell_type": "markdown",
   "id": "507f37cb",
   "metadata": {},
   "source": [
    "## 🎯 Ne İşe Yarar?\n",
    "* Model girişleri genelde (batch_size, features) formatında beklenir.\n",
    "\n",
    "* Ama senin verin tekil olabilir: (features,)\n",
    "\n",
    "* O zaman unsqueeze() ile batch_size = 1 diyip şekli düzeltiriz."
   ]
  },
  {
   "cell_type": "code",
   "execution_count": 26,
   "id": "4d77c00c",
   "metadata": {},
   "outputs": [
    {
     "name": "stdout",
     "output_type": "stream",
     "text": [
      "Orijinal Resim torch.Size([3])\n",
      "Unsqqueeze[0] torch.Size([1, 3])\n",
      "unsqueeze(1): torch.Size([3, 1])\n"
     ]
    }
   ],
   "source": [
    "x = torch.tensor([1.0, 2.0, 3.0]) # shape: [3]\n",
    "print(\"Orijinal Resim\" , x.shape)\n",
    "\n",
    "x_un = x.unsqueeze(0)\n",
    "print(\"Unsqqueeze[0]\" , x_un.shape) # shape: [1, 3]\n",
    "\n",
    "x_unsqueezed2 = x.unsqueeze(1)  # shape: [3, 1]\n",
    "print(\"unsqueeze(1):\", x_unsqueezed2.shape)"
   ]
  },
  {
   "cell_type": "markdown",
   "id": "e1bc160d",
   "metadata": {},
   "source": [
    "### 🧽 Karşılığı TensorFlow'da"
   ]
  },
  {
   "cell_type": "code",
   "execution_count": 31,
   "id": "67f059c6",
   "metadata": {},
   "outputs": [
    {
     "name": "stdout",
     "output_type": "stream",
     "text": [
      "Tf dim  = (1, 3)\n"
     ]
    }
   ],
   "source": [
    "x = tf.constant([1.0, 2.0, 3.0])\n",
    "x_unsqueezed = tf.expand_dims(x, axis=0)  # => shape (1, 3)\n",
    "print(\"Tf dim  =\" , x_unsqueezed.shape)"
   ]
  },
  {
   "cell_type": "markdown",
   "id": "b38ae660",
   "metadata": {},
   "source": [
    "---\n",
    "\n",
    "# 🎯 4. Boyut Sıkıştırma – squeeze()\n",
    "### ❓ Nedir?\n",
    "* squeeze() → boyutu 1 olan eksenleri tensordan kaldırır (sıkar)."
   ]
  },
  {
   "cell_type": "code",
   "execution_count": null,
   "id": "9d6ee613",
   "metadata": {},
   "outputs": [
    {
     "data": {
      "text/plain": [
       "torch.Size([3, 5])"
      ]
     },
     "execution_count": 32,
     "metadata": {},
     "output_type": "execute_result"
    }
   ],
   "source": [
    "x = torch.randn(1, 3, 1, 5)\n",
    "x.shape  # ➡️ torch.Size([1, 3, 1, 5])\n",
    "x = x.squeeze()\n",
    "x.shape  # ➡️ torch.Size([3, 5])"
   ]
  },
  {
   "cell_type": "markdown",
   "id": "5f7bcbbd",
   "metadata": {},
   "source": [
    "----"
   ]
  },
  {
   "cell_type": "markdown",
   "id": "63946ed3",
   "metadata": {},
   "source": [
    "# 📊 TensorFlow ImageDataGenerator vs PyTorch Veri Artırma"
   ]
  },
  {
   "cell_type": "markdown",
   "id": "7c18867e",
   "metadata": {},
   "source": [
    "### 1️⃣ TensorFlow ImageDataGenerator"
   ]
  },
  {
   "cell_type": "code",
   "execution_count": null,
   "id": "8bac9391",
   "metadata": {},
   "outputs": [],
   "source": [
    "from tensorflow.keras.preprocessing.image import ImageDataGenerator\n",
    "\n",
    "datagen = ImageDataGenerator(\n",
    "    rotation_range=20,\n",
    "    width_shift_range=0.1,\n",
    "    height_shift_range=0.1,\n",
    "    horizontal_flip=True,\n",
    "    rescale=1./255\n",
    ")\n",
    "\n",
    "train_generator = datagen.flow_from_directory(\n",
    "    'path/to/train',\n",
    "    target_size=(150, 150),\n",
    "    batch_size=32,\n",
    "    class_mode='binary'\n",
    ")"
   ]
  },
  {
   "cell_type": "markdown",
   "id": "1b4bfd5d",
   "metadata": {},
   "source": [
    "* Bu otomatik olarak diskten veri okur, artırma uygular, batch üretir."
   ]
  },
  {
   "cell_type": "markdown",
   "id": "8f035fdd",
   "metadata": {},
   "source": [
    "### 2️⃣ PyTorch’ta Veri Artırma Nasıl Yapılır?\n",
    "* 🔧 PyTorch’ta torchvision.transforms kullanılır.\n",
    "\n",
    "* transforms ile veri artırma işlemleri ardışık olarak tanımlanır.\n",
    "\n",
    "* Veri kümesi (dataset) genelde torchvision.datasets.ImageFolder ile diskten okunur.\n",
    "\n",
    "* DataLoader ile batch halinde veriler elde edilir."
   ]
  },
  {
   "cell_type": "code",
   "execution_count": null,
   "id": "bb9118c1",
   "metadata": {},
   "outputs": [],
   "source": [
    "from torchvision import datasets, transforms\n",
    "from torch.utils.data import DataLoader\n",
    "\n",
    "# Veri artırma pipeline’ı\n",
    "transform = transforms.Compose([\n",
    "    transforms.RandomRotation(20),\n",
    "    transforms.RandomHorizontalFlip(),\n",
    "    transforms.RandomResizedCrop(150),\n",
    "    transforms.ToTensor(),            # Görüntüyü tensöre çevirir\n",
    "    transforms.Normalize((0.5,), (0.5,))  # Normalizasyon (mean, std)\n",
    "])\n",
    "\n",
    "train_dataset = datasets.ImageFolder(root=\"\" , transform=transform)\n",
    "data_loader = DataLoader(train_dataset,batch_size=32,shuffle=True)\n"
   ]
  },
  {
   "cell_type": "markdown",
   "id": "03b31f07",
   "metadata": {},
   "source": [
    "| İşlem                      | TensorFlow                   | PyTorch                                       |\n",
    "| -------------------------- | ---------------------------- | --------------------------------------------- |\n",
    "| Veri Artırma               | `ImageDataGenerator`         | `torchvision.transforms.Compose`              |\n",
    "| Diskten Veri Okuma         | `flow_from_directory`        | `datasets.ImageFolder`                        |\n",
    "| Batch Üretme               | `flow_from_directory` içinde | `DataLoader` ile                              |\n",
    "| Transformasyon Dizisi      | Parametrelerle ayarlanır     | `transforms.Compose([..])` kullanılır         |\n",
    "| GPU/CPU Otomatik Kullanımı | Model ile otomatik           | Tensörler ve modele manuel taşıma gerekebilir |\n"
   ]
  },
  {
   "cell_type": "markdown",
   "id": "a5eea1da",
   "metadata": {},
   "source": [
    "---\n",
    "# 🤖 Yapay Sinir Ağı (YSA) Modeli Karşılaştırması: TensorFlow vs PyTorch"
   ]
  },
  {
   "cell_type": "markdown",
   "id": "56a1fbb3",
   "metadata": {},
   "source": [
    "### 1️⃣ Model Tanımlama\n",
    "\n",
    "* TensorFlow (Keras):"
   ]
  },
  {
   "cell_type": "code",
   "execution_count": null,
   "id": "3e27182a",
   "metadata": {},
   "outputs": [],
   "source": [
    "import tensorflow as tf\n",
    "\n",
    "model = tf.keras.Sequential([\n",
    "    tf.keras.layers.Dense(64, activation='relu', input_shape=(input_dim,)),\n",
    "    tf.keras.layers.Dense(64, activation='relu'),\n",
    "    tf.keras.layers.Dense(num_classes, activation='softmax')\n",
    "])"
   ]
  },
  {
   "cell_type": "markdown",
   "id": "c6b82224",
   "metadata": {},
   "source": [
    "* PyTorch: ( Merak etmeyin.Pytorch da kullanılan model yapılarının baştan sona açıklamaları diğer notebooklarda mevcuttur.)"
   ]
  },
  {
   "cell_type": "code",
   "execution_count": null,
   "id": "38aa9ea1",
   "metadata": {},
   "outputs": [],
   "source": [
    "import torch.nn as nn\n",
    "import torch.nn.functional as F\n",
    "\n",
    "class MLP(nn.Module):\n",
    "    def __init__(self, input_dim, num_classes):   # Bu model sonucunda toplam 3 adet katman ,  64 + 64 + çıkış katmanı olmak üzere noronlar bulunur.\n",
    "        super(MLP,self).__init__()\n",
    "        self.fc1 = nn.Linear(input_dim , 64)\n",
    "        self.fc2 = nn.Linear(64,64)\n",
    "        self.fc3 = nn.Linear(64,num_classes)\n",
    "\n",
    "    def forward(self,x):\n",
    "        x = x.view(-1 , input_dim)\n",
    "        x = F.relu(self.fc1(x)) # Eğer fonksiyon değiştirmek isterseniz , x = F.softmax(x,dim=1) -> Açıklama detaylarına model notebooğundan ulaşabilirsiniz.\n",
    "        x = F.relu(self.fc2(x))\n",
    "        x = self.fc3(x)\n",
    "        return x "
   ]
  },
  {
   "cell_type": "markdown",
   "id": "15421bcd",
   "metadata": {},
   "source": [
    "## Yukarıda bulunan 2 kod bloğu da aynı noron ve katman sayısına sahiptir. Tensorflow - Pytorch "
   ]
  },
  {
   "cell_type": "markdown",
   "id": "5866263c",
   "metadata": {},
   "source": [
    "| Özellik                    | TensorFlow (Keras)                         | PyTorch                                                                 |\n",
    "| -------------------------- | ------------------------------------------ | ----------------------------------------------------------------------- |\n",
    "| Giriş boyutu (`input_dim`) | `input_shape=(input_dim,)`                 | `x.view(-1, input_dim)` ile reshape edilir                              |\n",
    "| 1. Katman                  | `Dense(64, activation='relu')`             | `self.fc1 = nn.Linear(input_dim, 64)` + `F.relu`                        |\n",
    "| 2. Katman                  | `Dense(64, activation='relu')`             | `self.fc2 = nn.Linear(64, 64)` + `F.relu`                               |\n",
    "| Çıkış Katmanı              | `Dense(num_classes, activation='softmax')` | `self.fc3 = nn.Linear(64, num_classes)`                                 |\n",
    "| Çıkış aktivasyonu          | `softmax`                                  | `softmax` **kullanılmamış** (genellikle `CrossEntropyLoss` ile yapılır) |\n"
   ]
  },
  {
   "cell_type": "markdown",
   "id": "ded988e2",
   "metadata": {},
   "source": [
    "----\n",
    "\n",
    "# ✅ torchsummary Kütüphanesi ile .summary() gibi özet"
   ]
  },
  {
   "cell_type": "code",
   "execution_count": 1,
   "id": "39b50504",
   "metadata": {},
   "outputs": [
    {
     "name": "stdout",
     "output_type": "stream",
     "text": [
      "Collecting torchsummary\n",
      "  Downloading torchsummary-1.5.1-py3-none-any.whl.metadata (296 bytes)\n",
      "Downloading torchsummary-1.5.1-py3-none-any.whl (2.8 kB)\n",
      "Installing collected packages: torchsummary\n",
      "Successfully installed torchsummary-1.5.1\n"
     ]
    }
   ],
   "source": [
    "!pip install torchsummary"
   ]
  },
  {
   "cell_type": "markdown",
   "id": "bdb6491a",
   "metadata": {},
   "source": [
    "###  Aşağıda yapılan işlem torch kütüphanesi için geçerli summary öğesidir"
   ]
  },
  {
   "cell_type": "code",
   "execution_count": null,
   "id": "c590e97a",
   "metadata": {},
   "outputs": [],
   "source": [
    "from torchsummary import summary\n",
    "import torch\n",
    "\n",
    "model = MLP(input_dim=100 , num_classes=10)\n",
    "model.to(\"cuda\" if torch.cuda.is_available() else \"cpu\")\n",
    "\n",
    "summary(model , input_size=(100,))"
   ]
  },
  {
   "cell_type": "markdown",
   "id": "999148c9",
   "metadata": {},
   "source": [
    "\n",
    "\n",
    "\n",
    "# 🔍 TensorFlow'da \"model summary\" nedir?"
   ]
  },
  {
   "cell_type": "markdown",
   "id": "45d7fa85",
   "metadata": {},
   "source": [
    "### Tamamen aşağıdaki gibidir :D"
   ]
  },
  {
   "cell_type": "code",
   "execution_count": null,
   "id": "65610d7c",
   "metadata": {},
   "outputs": [],
   "source": [
    "model.summary()"
   ]
  },
  {
   "cell_type": "markdown",
   "id": "1c9c49fd",
   "metadata": {},
   "source": [
    "----\n",
    "\n",
    "# ✅  \"Compile\" Eşdeğeri:"
   ]
  },
  {
   "cell_type": "markdown",
   "id": "05c05db6",
   "metadata": {},
   "source": [
    "### Tensorflow - > "
   ]
  },
  {
   "cell_type": "code",
   "execution_count": null,
   "id": "31f46e9d",
   "metadata": {},
   "outputs": [],
   "source": [
    "model.compile(\n",
    "    optimizer='adam',                          # Ağırlıkları güncelleyen algoritma\n",
    "    loss='sparse_categorical_crossentropy',    # Kayıp fonksiyonu (etiketler tamsayıysa)\n",
    "    metrics=['accuracy']                       # Başarı metriği\n",
    ")"
   ]
  },
  {
   "cell_type": "markdown",
   "id": "0fc07511",
   "metadata": {},
   "source": [
    "### PyTorch: model, loss_fn, optimizer ->"
   ]
  },
  {
   "cell_type": "markdown",
   "id": "b6c4fbe9",
   "metadata": {},
   "source": [
    "| Bileşen            | TensorFlow’daki karşılığı          |\n",
    "| ------------------ | ---------------------------------- |\n",
    "| `model = MLP(...)` | `model = tf.keras.Sequential(...)` |\n",
    "| `loss_fn = ...`    | `loss='...'`                       |\n",
    "| `optimizer = ...`  | `optimizer='...'`                  |\n"
   ]
  },
  {
   "cell_type": "code",
   "execution_count": null,
   "id": "f2079e1a",
   "metadata": {},
   "outputs": [],
   "source": [
    "import torch\n",
    "import torch.nn as nn\n",
    "import torch.optim as optim\n",
    "\n",
    "loss_fn = nn.CrossEntropyLoss()\n",
    "optim = optim.Adam(model.parameters() , lr=0.001)"
   ]
  },
  {
   "cell_type": "markdown",
   "id": "3afb91d2",
   "metadata": {},
   "source": [
    "| Amaç             | TensorFlow                               | PyTorch                                  |\n",
    "| ---------------- | ---------------------------------------- | ---------------------------------------- |\n",
    "| Model            | `Sequential([...])`                      | `class MLP(nn.Module): ...`              |\n",
    "| Derleme          | `model.compile(...)`                     | yok (manuel yapılır)                     |\n",
    "| Kayıp fonksiyonu | `loss='sparse_categorical_crossentropy'` | `nn.CrossEntropyLoss()`                  |\n",
    "| Optimizasyon     | `optimizer='adam'`                       | `optim.Adam(model.parameters(), lr=...)` |\n"
   ]
  },
  {
   "cell_type": "markdown",
   "id": "494c95a9",
   "metadata": {},
   "source": [
    "----\n"
   ]
  },
  {
   "cell_type": "markdown",
   "id": "bbf8ad39",
   "metadata": {},
   "source": [
    "# ✅   Eğitim (fit)"
   ]
  },
  {
   "cell_type": "markdown",
   "id": "650ce632",
   "metadata": {},
   "source": [
    "## Tensorflow -> "
   ]
  },
  {
   "cell_type": "code",
   "execution_count": null,
   "id": "74a29a8d",
   "metadata": {},
   "outputs": [],
   "source": [
    "model.fit(x_train, y_train, epochs=10, batch_size=32, validation_split=0.2)"
   ]
  },
  {
   "cell_type": "markdown",
   "id": "40d154df",
   "metadata": {},
   "source": [
    "## Torch ->"
   ]
  },
  {
   "cell_type": "code",
   "execution_count": null,
   "id": "38c335db",
   "metadata": {},
   "outputs": [],
   "source": [
    "for epoch in range(num_epoch):\n",
    "    for inputs , labels in train_laoder:\n",
    "\n",
    "        optim.zero_grad() # = Gradient Reset\n",
    "\n",
    "        outputs = model(inputs) # = Forward pass\n",
    "\n",
    "        loss = criterion(outputs,labels)  #  = Loss computation\n",
    "\n",
    "        loss.backward()  # - Backward pass\n",
    "\n",
    "        optim.step()\n"
   ]
  },
  {
   "cell_type": "markdown",
   "id": "9af39c43",
   "metadata": {},
   "source": [
    "| Satır                       | Ne Yapar?                                                           |\n",
    "| --------------------------- | ------------------------------------------------------------------- |\n",
    "| `for epoch in range(...)`   | Eğitim sürecinin kaç kez dönüleceğini kontrol eder (epoch).         |\n",
    "| `for inputs, labels in ...` | `train_loader` içindeki her bir mini-batch için döner. (Dataloader) |\n",
    "| `optimizer.zero_grad()`     | Her batch'ten önce gradyanlar sıfırlanır. Yoksa birikir.            |\n",
    "| `outputs = model(inputs)`   | Modelde forward pass (tahmin üretme).                               |\n",
    "| `loss = criterion(...)`     | Tahminle gerçek arasındaki farkı ölçer (kayıp hesaplar).            |\n",
    "| `loss.backward()`           | Backpropagation yapar. Gradyanları hesaplar.                        |\n",
    "| `optimizer.step()`          | Bu gradyanlara göre ağırlıkları günceller.                          |\n"
   ]
  },
  {
   "cell_type": "markdown",
   "id": "9d0f7824",
   "metadata": {},
   "source": [
    "#### 📝 Notlar:\n",
    "* train_loader → Veriyi batch’lere bölen DataLoader nesnesidir.\n",
    "\n",
    "* criterion → Loss function (örneğin nn.CrossEntropyLoss()).\n",
    "\n",
    "* optimizer → Ağırlıkları güncelleyen algoritma (örneğin optim.Adam).\n",
    "\n",
    "* Epoch sayısı kadar döner; her epoch'ta tüm veriyi bir kere görür."
   ]
  },
  {
   "cell_type": "markdown",
   "id": "7f25a7f8",
   "metadata": {},
   "source": [
    "----\n",
    "# ✅  TAHMİN SÜRECİ – predict()\n",
    "\n"
   ]
  },
  {
   "cell_type": "markdown",
   "id": "3d2405c8",
   "metadata": {},
   "source": [
    "###  1. MODELİ EVALUATE MODUNA ALMA\n",
    "\n",
    "| TensorFlow                        | PyTorch        |\n",
    "| --------------------------------- | -------------- |\n",
    "| `# Gerek yok, TF otomatik yapar.` | `model.eval()` |\n"
   ]
  },
  {
   "cell_type": "markdown",
   "id": "5a81e8b2",
   "metadata": {},
   "source": [
    "* ,PyTorch'ta eval() zorunludur (Dropout / BatchNorm için). TensorFlow'da model.predict() çağrısı, modelin zaten \"inference mode\"da çalışmasını sağlar."
   ]
  },
  {
   "cell_type": "markdown",
   "id": "da977291",
   "metadata": {},
   "source": [
    "### 2. MODELİ TAHMİNE ALMA \n",
    "🎯 TensorFlow =>"
   ]
  },
  {
   "cell_type": "code",
   "execution_count": null,
   "id": "c83ca19c",
   "metadata": {},
   "outputs": [],
   "source": [
    "predictions = model.predict(x_test)\n",
    "predicted_classes = np.argmax(predictions, axis=1)"
   ]
  },
  {
   "cell_type": "markdown",
   "id": "dee67698",
   "metadata": {},
   "source": [
    "🎯 PyTorch =>"
   ]
  },
  {
   "cell_type": "markdown",
   "id": "d4e54522",
   "metadata": {},
   "source": [
    "| Özellik         | `train()` Modu         | `eval()` Modu             |\n",
    "| --------------- | ---------------------- | ------------------------- |\n",
    "| Dropout         | Aktif (rastgele siler) | Pasif (tüm nöronlar açık) |\n",
    "| BatchNorm       | Batch'a göre normalize | Öğrenilen istatistikler   |\n",
    "| Kullanım zamanı | Eğitim süreci          | Değerlendirme / Predict   |\n"
   ]
  },
  {
   "cell_type": "code",
   "execution_count": null,
   "id": "58710f7e",
   "metadata": {},
   "outputs": [],
   "source": [
    "model.eval()\n",
    "\n",
    "with torch.no_grad():\n",
    "    sample = torch.tensor(x_test[0]).unsqueeze(0).float()\n",
    "    output = model(sample)\n",
    "    print(torch.argmax(output,dim=1).item())\n"
   ]
  },
  {
   "cell_type": "markdown",
   "id": "ea45dd2a",
   "metadata": {},
   "source": [
    "#### 🔒 with torch.no_grad() NEDİR?\n",
    "\n",
    "##### 🎯 Amacı:\n",
    "* Gereksiz yere gradyan hesaplanmasını önler.\n",
    "\n",
    "* Bu, özellikle tahmin/inference sırasında önemlidir çünkü:\n",
    "\n",
    "* Gradyanlara ihtiyacın yoktur (geri yayılım yapmayacağız).\n",
    "\n",
    "* Bellekten tasarruf sağlar (RAM + GPU).\n",
    "\n",
    "\n",
    "\n",
    "\n"
   ]
  },
  {
   "cell_type": "markdown",
   "id": "49a28c8a",
   "metadata": {},
   "source": [
    "#### 📌 sample = torch.tensor(x_test[0]).unsqueeze(0).float() Ne yapıyor bu satır?\n",
    "\n",
    "* Bu satırda test verisinden tek bir örnek alıp modele uygun hale getiriyoruz."
   ]
  },
  {
   "cell_type": "markdown",
   "id": "867cd3f0",
   "metadata": {},
   "source": [
    "#### 🔢 torch.argmax(output, dim=1).item()\n",
    "* Tahmin edilen sınıfın indeksini verir (örneğin 2 → \"class 2\").\n",
    "\n",
    "* dim=1 → çünkü batch boyutumuz 1 ([1, num_classes] yapısında).\n",
    "\n",
    "* .item() → tensor(2) → 2 gibi sade bir Python integer yapar."
   ]
  },
  {
   "cell_type": "markdown",
   "id": "03e3295d",
   "metadata": {},
   "source": [
    "| Kod                        | Anlamı                                       |\n",
    "| -------------------------- | -------------------------------------------- |\n",
    "| `model.eval()`             | Dropout ve BatchNorm'u tahmin moduna geçir.  |\n",
    "| `with torch.no_grad()`     | Bellekten tasarruf et, gradyan hesaplama.    |\n",
    "| `x_test[0]`                | İlk test verisini al.                        |\n",
    "| `unsqueeze(0)`             | Tek girdiyi batch haline getir (boyut ekle). |\n",
    "| `.float()`                 | Veriyi `float32` tipine çevir.               |\n",
    "| `model(sample)`            | Modelle tahmin yap.                          |\n",
    "| `torch.argmax(...).item()` | Tahmin edilen sınıfı (etiketi) al.           |\n"
   ]
  },
  {
   "cell_type": "markdown",
   "id": "b877e5ef",
   "metadata": {},
   "source": []
  },
  {
   "cell_type": "markdown",
   "id": "6dad5e7b",
   "metadata": {},
   "source": []
  }
 ],
 "metadata": {
  "kernelspec": {
   "display_name": "Python (torch_env)",
   "language": "python",
   "name": "torch_env"
  },
  "language_info": {
   "codemirror_mode": {
    "name": "ipython",
    "version": 3
   },
   "file_extension": ".py",
   "mimetype": "text/x-python",
   "name": "python",
   "nbconvert_exporter": "python",
   "pygments_lexer": "ipython3",
   "version": "3.12.5"
  }
 },
 "nbformat": 4,
 "nbformat_minor": 5
}
