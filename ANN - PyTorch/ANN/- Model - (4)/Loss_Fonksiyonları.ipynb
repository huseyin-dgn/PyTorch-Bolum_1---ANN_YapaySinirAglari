{
 "cells": [
  {
   "cell_type": "markdown",
   "id": "56eba3a2",
   "metadata": {},
   "source": [
    "# 📌 Loss Fonksiyonları (PyTorch)\n",
    "\n",
    "\n",
    "### 🔹 1. Binary Cross-Entropy Loss (BCE)\n",
    "- İki sınıf (0/1) problemlerinde kullanılır.  \n",
    "- Bizim **\"kanser mi değil mi\"** datasına en uygun olanı. "
   ]
  },
  {
   "cell_type": "code",
   "execution_count": null,
   "id": "0858c42f",
   "metadata": {},
   "outputs": [],
   "source": [
    "import torch.nn as nn\n",
    "\n",
    "criterion = nn.BCELoss()  # Eğer çıkış Sigmoid ile 0-1 arasına sıkıştırılmışsa"
   ]
  },
  {
   "cell_type": "markdown",
   "id": "6ab1e654",
   "metadata": {},
   "source": [
    "* ⚠ Eğer nn.Sigmoid() kullanmadan ham logit çıkışı veriyorsan:"
   ]
  },
  {
   "cell_type": "code",
   "execution_count": null,
   "id": "6a7b940b",
   "metadata": {},
   "outputs": [],
   "source": [
    "criterion = nn.BCEWithLogitsLoss()  # Daha stabil öğrenme sağlar"
   ]
  },
  {
   "cell_type": "markdown",
   "id": "c0d2cfca",
   "metadata": {},
   "source": [
    "### 🔹 2. Cross-Entropy Loss\n",
    "\n",
    "- Çok sınıflı (ör: 10 sınıf) sınıflandırmalarda.\n",
    "\n",
    "- Çıkış aktivasyonu Softmax ile birlikte kullanılır."
   ]
  },
  {
   "cell_type": "code",
   "execution_count": null,
   "id": "3e932900",
   "metadata": {},
   "outputs": [],
   "source": [
    "criterion = nn.CrossEntropyLoss()"
   ]
  },
  {
   "cell_type": "markdown",
   "id": "f7a35cee",
   "metadata": {},
   "source": [
    "### 🔹 3. MSE Loss (Mean Squared Error)\n",
    "\n",
    "- Klasik regresyon problemlerinde kullanılır.\n",
    "\n",
    "- Binary classification için önerilmez (yavaş öğrenir)."
   ]
  },
  {
   "cell_type": "code",
   "execution_count": null,
   "id": "77c2593b",
   "metadata": {},
   "outputs": [],
   "source": [
    "criterion = nn.MSELoss()"
   ]
  },
  {
   "cell_type": "markdown",
   "id": "93dd036d",
   "metadata": {},
   "source": [
    "### 🔹 4. Label Smoothing\n",
    "\n",
    "* Modelin tahminlerine aşırı güvenmesini engeller.\n",
    "\n",
    "* Özellikle büyük veri setlerinde overfitting’i azaltır.\n",
    "\n",
    "* CrossEntropyLoss içinde parametre olarak kullanılabilir:"
   ]
  },
  {
   "cell_type": "code",
   "execution_count": null,
   "id": "e6f90d0d",
   "metadata": {},
   "outputs": [],
   "source": [
    "criterion = nn.CrossEntropyLoss(label_smoothing=0.1)"
   ]
  },
  {
   "cell_type": "markdown",
   "id": "a2b3c77b",
   "metadata": {},
   "source": []
  },
  {
   "cell_type": "markdown",
   "id": "8511e315",
   "metadata": {},
   "source": []
  }
 ],
 "metadata": {
  "kernelspec": {
   "display_name": "Python (torch_env)",
   "language": "python",
   "name": "torch_env"
  },
  "language_info": {
   "name": "python",
   "version": "3.12.5"
  }
 },
 "nbformat": 4,
 "nbformat_minor": 5
}
