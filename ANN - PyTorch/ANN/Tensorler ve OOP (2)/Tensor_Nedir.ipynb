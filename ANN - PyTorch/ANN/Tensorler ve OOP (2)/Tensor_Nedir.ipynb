{
 "cells": [
  {
   "cell_type": "markdown",
   "id": "fadf4f13",
   "metadata": {},
   "source": [
    "# Bu dosya içerisinde aslında normalde tensorflow ile yaptığımız işlemlerin Pytorch halini göreceksiniz.Ama en önce neden pytorch ve neden Tensorler ? Gelin beraber inceleyelim."
   ]
  },
  {
   "cell_type": "markdown",
   "id": "3bbf8eab",
   "metadata": {},
   "source": [
    "---"
   ]
  },
  {
   "cell_type": "markdown",
   "id": "4a2c1f25",
   "metadata": {},
   "source": [
    "# PyTorch ile Yapay Sinir Ağlarına Giriş\n",
    "\n",
    "Yapay zekâ ve derin öğrenme alanında **PyTorch**, esnek yapısı ve dinamik hesaplama grafiği sayesinde en çok tercih edilen kütüphanelerden biridir.  \n",
    "Özellikle araştırma, prototipleme ve hızlı denemeler yapmak için sunduğu **kolay kullanım** ve **GPU hızlandırma** desteği ile öne çıkar.  \n",
    "\n",
    "## Neden PyTorch?\n",
    "\n",
    "- **Dinamik hesaplama grafiği**: Modeli adım adım değiştirmek ve hata ayıklamak kolaydır.  \n",
    "- **Kolay öğrenim eğrisi**: Python’a yakın bir yazım şekli olduğundan anlaşılır.  \n",
    "- **Geniş ekosistem**: TorchVision, TorchText, TorchAudio gibi yan kütüphanelerle desteklenir.  \n",
    "- **Araştırma ve üretim uyumluluğu**: Hem akademide hem de endüstride yaygınca kullanılır.  \n",
    "\n",
    "## PyTorch Kullanırken Nelere Dikkat Etmeli?\n",
    "\n",
    "- **Tensor mantığını anlamak**: PyTorch’un kalbi `Tensor` veri yapısıdır.  \n",
    "- **CUDA / GPU kullanımı**: `device = torch.device(\"cuda\" if torch.cuda.is_available() else \"cpu\")` ile GPU’dan faydalanmayı unutmamak gerekir.  \n",
    "- **Model – loss – optimizer üçlüsü**: Eğitim döngüsünde bu üç yapı sürekli birlikte çalışır.  \n",
    "- **Autograd sistemi**: Geriye yayılım (`backward`) işlemlerini otomatik yapar, ama `with torch.no_grad():` gibi durumlarda manuel kontrol gerekebilir.  \n",
    "- **Batch işlemleri**: Eğitim sırasında verileri tek tek değil, gruplar (batch) halinde beslemek performans açısından kritik öneme sahiptir.  \n",
    "\n",
    "---\n"
   ]
  },
  {
   "cell_type": "markdown",
   "id": "c3ea6210",
   "metadata": {},
   "source": [
    "# PyTorch’ta Tensor Nedir?\n",
    "\n",
    "## 🔹 Teorik Tanım\n",
    "- **Tensor**, çok boyutlu sayı dizisidir.  \n",
    "- Aslında **vektör** ve **matris** kavramlarının daha genel halidir.  \n",
    "\n",
    "### Örnekler:\n",
    "- **Skaler (0D tensor)** → Tek sayı  \n",
    "  `x = 5`  \n",
    "- **Vektör (1D tensor)** → Sayı listesi  \n",
    "  `[1, 2, 3]`  \n",
    "- **Matris (2D tensor)** → Tablo şeklinde sayılar  \n",
    "  `[[1, 2], [3, 4]]`  \n",
    "- **Yüksek boyutlu tensorler (3D, 4D, …)** →  \n",
    "  - Görseller (3D: yükseklik × genişlik × kanal)  \n",
    "  - Videolar (4D: zaman × yükseklik × genişlik × kanal)  \n",
    "\n",
    "\n",
    "\n",
    "## 🔹 PyTorch’ta Tensor\n",
    "- `torch.Tensor`, NumPy array’e çok benzer.  \n",
    "- GPU üzerinde çalışabilir.  \n",
    "- Yapay sinir ağlarındaki **girdiler, çıktılar ve ağırlıklar** hep tensor olarak saklanır.  \n",
    "\n",
    "\n",
    "\n"
   ]
  },
  {
   "cell_type": "markdown",
   "id": "964bbe3a",
   "metadata": {},
   "source": [
    "---"
   ]
  },
  {
   "cell_type": "markdown",
   "id": "4ea9ee64",
   "metadata": {},
   "source": [
    "## 🔹 Neden Tensor, NumPy Değil?\n",
    "\n",
    "1. **GPU Desteği**  \n",
    "   Tensor verileri CPU’dan GPU’ya taşıyabilir → hesaplamalar çok hızlanır.  \n",
    "\n",
    "   ```python\n",
    "   import torch\n",
    "   x = torch.tensor([1, 2, 3], dtype=torch.float32)"
   ]
  },
  {
   "cell_type": "markdown",
   "id": "84416ddf",
   "metadata": {},
   "source": [
    " ## 🔹 Otomatik Türev (autograd)\n",
    "\n",
    "Derin öğrenmede türev hesaplamak gerekir. Tensor bunu kendisi yapar."
   ]
  },
  {
   "cell_type": "code",
   "execution_count": 1,
   "id": "e4afc182",
   "metadata": {},
   "outputs": [
    {
     "name": "stdout",
     "output_type": "stream",
     "text": [
      "tensor(4.)\n"
     ]
    }
   ],
   "source": [
    "import torch\n",
    "\n",
    "x = torch.tensor(2.0, requires_grad=True)\n",
    "y = x**2\n",
    "y.backward()\n",
    "print(x.grad)  # 2x = 4\n"
   ]
  },
  {
   "cell_type": "markdown",
   "id": "4ab01ba2",
   "metadata": {},
   "source": [
    "## 🔹 PyTorch Ekosistemi\n",
    "Model, katman, optimizer, loss fonksiyonu → hepsi Tensor ile çalışır.\n",
    "NumPy burada uyumsuz kalır."
   ]
  },
  {
   "cell_type": "markdown",
   "id": "61566381",
   "metadata": {},
   "source": [
    "----"
   ]
  },
  {
   "cell_type": "markdown",
   "id": "0a40cc45",
   "metadata": {},
   "source": [
    "# Tensor ve NumPy Array Karşılaştırması\n",
    "\n",
    "## 🔹 2D Tensor Örneği (PyTorch)\n"
   ]
  },
  {
   "cell_type": "code",
   "execution_count": null,
   "id": "f4ea1146",
   "metadata": {},
   "outputs": [
    {
     "name": "stdout",
     "output_type": "stream",
     "text": [
      "Tensor:\n",
      " tensor([[1, 2, 3],\n",
      "        [4, 5, 6]])\n",
      "Boyutları: torch.Size([2, 3])\n",
      "Cihaz: cpu\n"
     ]
    }
   ],
   "source": [
    "import torch\n",
    "\n",
    "tensor = torch.tensor([[1, 2, 3],\n",
    "                       [4, 5, 6]])\n",
    "\n",
    "print(\"Tensor:\\n\", tensor)\n",
    "print(\"Boyutları:\", tensor.shape)\n",
    "print(\"Cihaz:\", tensor.device)"
   ]
  },
  {
   "cell_type": "markdown",
   "id": "ad981b77",
   "metadata": {},
   "source": [
    "## 🔹 2D NumPy Array Örneği"
   ]
  },
  {
   "cell_type": "code",
   "execution_count": 6,
   "id": "956b5df0",
   "metadata": {},
   "outputs": [
    {
     "name": "stdout",
     "output_type": "stream",
     "text": [
      "NumPy Array:\n",
      " [[1 2 3]\n",
      " [4 5 6]]\n",
      "Boyutları: (2, 3)\n"
     ]
    }
   ],
   "source": [
    "import numpy as np\n",
    "\n",
    "array = np.array([[1, 2, 3],\n",
    "                  [4, 5, 6]])\n",
    "print(\"NumPy Array:\\n\", array)\n",
    "print(\"Boyutları:\", array.shape)\n"
   ]
  },
  {
   "cell_type": "markdown",
   "id": "a1b250f5",
   "metadata": {},
   "source": [
    "| Özellik             | NumPy Array | PyTorch Tensor |\n",
    "| ------------------- | ----------- | -------------- |\n",
    "| Boyut               | Çok boyutlu | Çok boyutlu    |\n",
    "| GPU Desteği         | ❌           | ✅              |\n",
    "| Otomatik Türev      | ❌           | ✅              |\n",
    "| Derin öğrenme uyumu | ❌           | ✅              |\n"
   ]
  },
  {
   "cell_type": "markdown",
   "id": "07090db3",
   "metadata": {},
   "source": [
    "---"
   ]
  },
  {
   "cell_type": "markdown",
   "id": "63164dbe",
   "metadata": {},
   "source": [
    "# PyTorch Tensor Temel İşlemler\n",
    "\n",
    "## 🔹 1. Toplama ve Çıkarma\n",
    "```python\n",
    "import torch\n",
    "\n",
    "# 1D Tensor\n",
    "a = torch.tensor([1, 2, 3])\n",
    "b = torch.tensor([4, 5, 6])\n",
    "\n",
    "# Toplama\n",
    "c = a + b\n",
    "print(\"Toplama:\", c)  # [5, 7, 9]\n",
    "\n",
    "# Çıkarma\n",
    "d = b - a\n",
    "print(\"Çıkarma:\", d)  # [3, 3, 3]\n"
   ]
  },
  {
   "cell_type": "markdown",
   "id": "94df3db4",
   "metadata": {},
   "source": [
    "----"
   ]
  },
  {
   "cell_type": "markdown",
   "id": "a1c0db87",
   "metadata": {},
   "source": [
    "# PyTorch Tensor: Şekil Değiştirme ve Slicing\n",
    "\n",
    "## 🔹 1. Reshape (Boyut Değiştirme)\n",
    "\n",
    "* view ile tensor boyutunu değiştiririz. Yeni boyut orijinal eleman sayısıyla uyumlu olmalı.\n"
   ]
  },
  {
   "cell_type": "code",
   "execution_count": 8,
   "id": "343e39ea",
   "metadata": {},
   "outputs": [
    {
     "name": "stdout",
     "output_type": "stream",
     "text": [
      "Orijinal Tensor:\n",
      " tensor([[1, 2, 3],\n",
      "        [4, 5, 6]]) Şekil: torch.Size([2, 3])\n",
      "Reshape 3x2:\n",
      " tensor([[1, 2],\n",
      "        [3, 4],\n",
      "        [5, 6]])\n"
     ]
    }
   ],
   "source": [
    "import torch\n",
    "\n",
    "x = torch.tensor([[1,2,3],\n",
    "                  [4,5,6]])\n",
    "print(\"Orijinal Tensor:\\n\", x, \"Şekil:\", x.shape)\n",
    "\n",
    "# 2x3 -> 3x2\n",
    "y = x.view(3,2)\n",
    "print(\"Reshape 3x2:\\n\", y)\n"
   ]
  },
  {
   "cell_type": "markdown",
   "id": "4f2f7b66",
   "metadata": {},
   "source": [
    "## 🔹 2. Boyut Eklemek / Çıkarmak"
   ]
  },
  {
   "cell_type": "code",
   "execution_count": 7,
   "id": "5e787823",
   "metadata": {},
   "outputs": [
    {
     "name": "stdout",
     "output_type": "stream",
     "text": [
      "Orijinal: tensor([1, 2, 3]) Şekil: torch.Size([3])\n",
      "unsqueeze(0) ile yeni boyut: torch.Size([1, 3])\n",
      "squeeze(0) ile eski boyut: torch.Size([3])\n"
     ]
    }
   ],
   "source": [
    "x = torch.tensor([1,2,3])\n",
    "print(\"Orijinal:\", x, \"Şekil:\", x.shape)\n",
    "\n",
    "# Boyut ekleme (1D -> 2D)\n",
    "x_unsqueeze = x.unsqueeze(0)\n",
    "print(\"unsqueeze(0) ile yeni boyut:\", x_unsqueeze.shape)\n",
    "\n",
    "# Boyut çıkarmak\n",
    "x_squeeze = x_unsqueeze.squeeze(0)\n",
    "print(\"squeeze(0) ile eski boyut:\", x_squeeze.shape)\n"
   ]
  },
  {
   "cell_type": "markdown",
   "id": "f38e4c28",
   "metadata": {},
   "source": [
    "## 🔹 3. Slicing (Eleman Seçme)"
   ]
  },
  {
   "cell_type": "code",
   "execution_count": 9,
   "id": "ca027165",
   "metadata": {},
   "outputs": [
    {
     "name": "stdout",
     "output_type": "stream",
     "text": [
      "0. Satır: tensor([1, 2, 3])\n",
      "1. Sütun: tensor([2, 5])\n",
      "Alt matris:\n",
      " tensor([[2, 3],\n",
      "        [5, 6]])\n"
     ]
    }
   ],
   "source": [
    "x = torch.tensor([[1,2,3],\n",
    "                  [4,5,6]])\n",
    "# Satır seçme\n",
    "print(\"0. Satır:\", x[0])\n",
    "\n",
    "# Sütun seçme\n",
    "print(\"1. Sütun:\", x[:,1])\n",
    "\n",
    "# Alt matris seçme\n",
    "print(\"Alt matris:\\n\", x[0:2,1:3])\n"
   ]
  },
  {
   "cell_type": "markdown",
   "id": "ed411f33",
   "metadata": {},
   "source": [
    "----\n",
    "\n",
    "# PyTorch Tensor: İleri İşlemler\n",
    "\n",
    "## 🔹 1. Tensor Birleştirme (Concatenation)"
   ]
  },
  {
   "cell_type": "code",
   "execution_count": 10,
   "id": "2439c8dc",
   "metadata": {},
   "outputs": [
    {
     "name": "stdout",
     "output_type": "stream",
     "text": [
      "Satır bazında birleştirme:\n",
      " tensor([[1, 2],\n",
      "        [3, 4],\n",
      "        [5, 6],\n",
      "        [7, 8]])\n",
      "Sütun bazında birleştirme:\n",
      " tensor([[1, 2, 5, 6],\n",
      "        [3, 4, 7, 8]])\n"
     ]
    }
   ],
   "source": [
    "import torch\n",
    "\n",
    "a = torch.tensor([[1,2],[3,4]])\n",
    "b = torch.tensor([[5,6],[7,8]])\n",
    "\n",
    "# Satır bazında birleştirme (dim=0)\n",
    "c = torch.cat((a,b), dim=0)\n",
    "print(\"Satır bazında birleştirme:\\n\", c)\n",
    "\n",
    "# Sütun bazında birleştirme (dim=1)\n",
    "d = torch.cat((a,b), dim=1)\n",
    "print(\"Sütun bazında birleştirme:\\n\", d)"
   ]
  },
  {
   "cell_type": "markdown",
   "id": "a77672c8",
   "metadata": {},
   "source": [
    "## 🔹 2. Temel İstatistik İşlemleri"
   ]
  },
  {
   "cell_type": "code",
   "execution_count": 11,
   "id": "7731ce76",
   "metadata": {},
   "outputs": [
    {
     "name": "stdout",
     "output_type": "stream",
     "text": [
      "Toplam: tensor(21)\n",
      "Satır bazında toplam: tensor([ 6, 15])\n",
      "Sütun bazında toplam: tensor([5, 7, 9])\n",
      "Ortalama: tensor(3.5000)\n",
      "Max değer: tensor(6)\n",
      "Min değer: tensor(1)\n"
     ]
    }
   ],
   "source": [
    "x = torch.tensor([[1,2,3],[4,5,6]])\n",
    "\n",
    "print(\"Toplam:\", x.sum())\n",
    "print(\"Satır bazında toplam:\", x.sum(dim=1))\n",
    "print(\"Sütun bazında toplam:\", x.sum(dim=0))\n",
    "\n",
    "print(\"Ortalama:\", x.float().mean())\n",
    "print(\"Max değer:\", x.max())\n",
    "print(\"Min değer:\", x.min())\n"
   ]
  },
  {
   "cell_type": "markdown",
   "id": "c449b0e9",
   "metadata": {},
   "source": [
    "## 🔹 3. Eleman Bazlı İşlemler"
   ]
  },
  {
   "cell_type": "code",
   "execution_count": 12,
   "id": "bbe41692",
   "metadata": {},
   "outputs": [
    {
     "name": "stdout",
     "output_type": "stream",
     "text": [
      "Karesi: tensor([ 1,  4,  9, 16])\n",
      "Kök: tensor([1.0000, 1.4142, 1.7321, 2.0000])\n",
      "Logaritma: tensor([0.0000, 0.6931, 1.0986, 1.3863])\n"
     ]
    }
   ],
   "source": [
    "x = torch.tensor([1,2,3,4])\n",
    "\n",
    "print(\"Karesi:\", x**2)\n",
    "print(\"Kök:\", torch.sqrt(x.float()))\n",
    "print(\"Logaritma:\", torch.log(x.float()))\n"
   ]
  },
  {
   "cell_type": "markdown",
   "id": "276ac8ec",
   "metadata": {},
   "source": []
  }
 ],
 "metadata": {
  "kernelspec": {
   "display_name": "Python (torch_env)",
   "language": "python",
   "name": "torch_env"
  },
  "language_info": {
   "codemirror_mode": {
    "name": "ipython",
    "version": 3
   },
   "file_extension": ".py",
   "mimetype": "text/x-python",
   "name": "python",
   "nbconvert_exporter": "python",
   "pygments_lexer": "ipython3",
   "version": "3.12.5"
  }
 },
 "nbformat": 4,
 "nbformat_minor": 5
}
