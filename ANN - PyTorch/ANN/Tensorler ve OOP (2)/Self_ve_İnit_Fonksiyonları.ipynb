{
 "cells": [
  {
   "cell_type": "markdown",
   "id": "5b1904fc",
   "metadata": {},
   "source": [
    "# 🔹 Python’da `self` ve `__init__`\n",
    "\n",
    "## 1️⃣ `self` nedir?\n",
    "- `self`, **bir sınıfın içindeki metotlarda o sınıfın kendisini temsil eden parametredir.**\n",
    "- Java/C++’taki `this` ifadesine denktir.\n",
    "- Nesneye ait **özelliklere** (attributes) ve **metotlara** erişmek için kullanılır.,"
   ]
  },
  {
   "cell_type": "code",
   "execution_count": 1,
   "id": "396630cb",
   "metadata": {},
   "outputs": [
    {
     "name": "stdout",
     "output_type": "stream",
     "text": [
      "Marka: Toyota, Model: Corolla\n"
     ]
    }
   ],
   "source": [
    "class Araba:\n",
    "    def __init__(self, marka, model):\n",
    "        self.marka = marka\n",
    "        self.model = model\n",
    "\n",
    "    def bilgileri_goster(self):\n",
    "        print(f\"Marka: {self.marka}, Model: {self.model}\")\n",
    "\n",
    "araba1 = Araba(\"Toyota\", \"Corolla\")\n",
    "araba1.bilgileri_goster()"
   ]
  },
  {
   "cell_type": "markdown",
   "id": "b14dfdd2",
   "metadata": {},
   "source": [
    "## 2️⃣ `__init__` nedir?\n",
    "\n",
    "* __init__, constructor (yapıcı) fonksiyondur.\n",
    "\n",
    "* Yeni bir nesne oluşturulduğunda ilk çalışan fonksiyon budur.\n",
    "\n",
    "* Nesneye ait başlangıç değerlerini atamak için kullanılır.\n",
    "\n"
   ]
  },
  {
   "cell_type": "code",
   "execution_count": 3,
   "id": "b2cd213c",
   "metadata": {},
   "outputs": [
    {
     "name": "stdout",
     "output_type": "stream",
     "text": [
      "Merhaba Hüseyin, yaşın 21\n"
     ]
    }
   ],
   "source": [
    "class Kullanıcı:\n",
    "    def __init__(self,ad,yas):\n",
    "        self.ad = ad\n",
    "        self.yas = yas\n",
    "\n",
    "    def selamlar(self):\n",
    "        print(f\"Merhaba {self.ad}, yaşın {self.yas}\")\n",
    "\n",
    "k1 = Kullanıcı(\"Hüseyin\", 21)\n",
    "k1.selamlar()"
   ]
  },
  {
   "cell_type": "markdown",
   "id": "0ac158bc",
   "metadata": {},
   "source": [
    "## 3️⃣ Neyi kolaylaştırır?\n",
    "\n",
    "### ✅ `self`\n",
    "- Her nesneye **özgü verileri** saklamayı sağlar.  \n",
    "- Örn: Birden fazla `Araba` nesnesi → her biri kendi marka/model bilgilerini korur.\n",
    "\n",
    "### ✅ `__init__`\n",
    "- Nesne **oluşturulurken otomatik başlatma** yapar.  \n",
    "- Her seferinde özellikleri tek tek atamak zorunda kalmazsın.\n"
   ]
  },
  {
   "cell_type": "markdown",
   "id": "afe8a0ed",
   "metadata": {},
   "source": [
    "----\n",
    "\n",
    "# 🔍 Daha Derin Anlatım\n",
    "\n",
    "## 1️⃣ `self` neden gerekli?\n",
    "Python’da bir sınıf (class) yazdığında, sınıfın **her örneği (instance)** kendi verilerine sahip olur.  \n",
    "\n",
    "Eğer `self` olmasaydı, tüm nesneler **aynı değişkenleri** kullanırdı → yani kişiye özel bilgi saklayamazdık.  \n"
   ]
  },
  {
   "cell_type": "code",
   "execution_count": 4,
   "id": "c31e0511",
   "metadata": {},
   "outputs": [
    {
     "name": "stdout",
     "output_type": "stream",
     "text": [
      "Toyota\n",
      "BMW\n"
     ]
    }
   ],
   "source": [
    "class Araba:\n",
    "    def __init__(self, marka, model):\n",
    "        self.marka = marka\n",
    "        self.model = model\n",
    "\n",
    "araba1 = Araba(\"Toyota\", \"Corolla\")\n",
    "araba2 = Araba(\"BMW\", \"M3\")\n",
    "\n",
    "print(araba1.marka)  # Toyota\n",
    "print(araba2.marka)  # BMW,\n"
   ]
  },
  {
   "cell_type": "markdown",
   "id": "d487a80e",
   "metadata": {},
   "source": [
    "👉 Burada `araba1` ve `araba2` farklı **self** üzerinden kendi verilerini saklıyor.  \n",
    "\n",
    "- `araba1.marka` = Toyota  \n",
    "- `araba2.marka` = BMW  \n",
    "\n",
    "Eğer `self` olmasaydı, ikisi de aynı `marka` değişkenini paylaşır ve sonuçlar karışırdı.  \n",
    "\n",
    "---\n",
    "\n",
    "## 2️⃣ `__init__` neden gerekli?\n",
    "- `__init__` aslında bir **otomatik kurulum fonksiyonudur**.  \n",
    "- Sen yeni bir nesne oluşturduğunda Python hemen `__init__` fonksiyonunu çağırır.  \n",
    "- Böylece nesne **hazır halde** gelir.\n"
   ]
  },
  {
   "cell_type": "markdown",
   "id": "c91e2cab",
   "metadata": {},
   "source": [
    "### Örnek (__init__ olmadan):"
   ]
  },
  {
   "cell_type": "code",
   "execution_count": 5,
   "id": "92f63a64",
   "metadata": {},
   "outputs": [
    {
     "name": "stdout",
     "output_type": "stream",
     "text": [
      "Ali 25\n"
     ]
    }
   ],
   "source": [
    "class Kullanici:\n",
    "    pass\n",
    "\n",
    "k1 = Kullanici()\n",
    "k1.ad = \"Ali\"\n",
    "k1.yas = 25\n",
    "print(k1.ad, k1.yas)"
   ]
  },
  {
   "cell_type": "markdown",
   "id": "60d38cb9",
   "metadata": {},
   "source": [
    "### Örnek (__init__ ile):"
   ]
  },
  {
   "cell_type": "code",
   "execution_count": 6,
   "id": "42bee4d3",
   "metadata": {},
   "outputs": [
    {
     "name": "stdout",
     "output_type": "stream",
     "text": [
      "Ali 25\n"
     ]
    }
   ],
   "source": [
    "class Kullanici:\n",
    "    def __init__(self, ad, yas):\n",
    "        self.ad = ad\n",
    "        self.yas = yas\n",
    "\n",
    "k1 = Kullanici(\"Ali\", 25)\n",
    "print(k1.ad, k1.yas)\n"
   ]
  },
  {
   "cell_type": "markdown",
   "id": "1098a37c",
   "metadata": {},
   "source": [
    "* 📌 İki örnek de aynı sonucu verir, ama __init__ sayesinde nesne tek satırda hazır olur.\n",
    "Bu hem daha temiz, hem de daha güvenli bir yöntemdir."
   ]
  },
  {
   "cell_type": "markdown",
   "id": "608b782b",
   "metadata": {},
   "source": [
    "----\n",
    "\n",
    "# 🔍 `self` ve `__init__` İşleyiş Prensipleri\n",
    "\n",
    "## 1️⃣ `self` Prensipleri\n",
    "- `self`, **her nesnenin kendi verilerini tutabilmesi** için gereklidir.  \n",
    "- Bir metot **hangi nesne üzerinden çağrıldıysa**, `self` o nesneyi temsil eder.  \n",
    "- **İlk parametre olarak yazılır** ama metot çağırırken ayrıca verilmez.  \n",
    "\n",
    "### Dikkat Edilecekler:\n",
    "✅ Her sınıf metodunun ilk parametresi **`self` olmalı**.  \n",
    "✅ Nesneye ait değişkenler **`self.değişken` şeklinde tanımlanmalı**.  \n",
    "✅ `self` kullanılmazsa, nesneler birbirinin verilerini paylaşır → bu da hatalara yol açar. "
   ]
  },
  {
   "cell_type": "code",
   "execution_count": 7,
   "id": "03b25ae3",
   "metadata": {},
   "outputs": [],
   "source": [
    "class kullanıcı :\n",
    "    def __init__(self,ad):\n",
    "        self.ad = ad\n",
    "\n",
    "    def selamlar(self):\n",
    "        print(self.ad)"
   ]
  },
  {
   "cell_type": "markdown",
   "id": "6f584273",
   "metadata": {},
   "source": [
    "## 2️⃣ `__init__` Prensipleri\n",
    "\n",
    "- `__init__`, bir **yapıcı (constructor) fonksiyonudur**.  \n",
    "- Yeni bir nesne oluşturulduğunda **otomatik olarak ilk çalışan** fonksiyondur.  \n",
    "- Görevi: Nesnenin **başlangıç değerlerini ayarlamaktır**.  \n",
    "\n",
    "### 🔑 Dikkat Edilecekler:\n",
    "✅ Fonksiyon adı daima **`__init__`** olmak zorundadır (çift alt çizgiyle).  \n",
    "✅ İlk parametre her zaman **`self`** olmalıdır.  \n",
    "✅ Kullanıcıdan alınacak değerler **parametre olarak verilir**, sonra `self` ile nesneye atanır.  \n",
    "✅ `__init__` kullanılmazsa, nesne oluşturulduktan sonra değerleri **tek tek elle ataman** gerekir.\n"
   ]
  },
  {
   "cell_type": "code",
   "execution_count": 8,
   "id": "45ff2d2b",
   "metadata": {},
   "outputs": [],
   "source": [
    "class Kullanici:\n",
    "    def __init__(self, ad, yas):\n",
    "        self.ad = ad    # Nesneye özel ad bilgisi\n",
    "        self.yas = yas  # Nesneye özel yaş bilgisi\n"
   ]
  },
  {
   "cell_type": "markdown",
   "id": "2ac45232",
   "metadata": {},
   "source": [
    "## 3️⃣ Kısacası\n",
    "\n",
    "* self → Nesnenin kendisini temsil eder, her nesneye özgü veriyi ayırır.\n",
    "\n",
    "* __init__ → Nesne oluşturulurken otomatik çalışır, başlangıç verilerini ayarlar."
   ]
  },
  {
   "cell_type": "markdown",
   "id": "d00d962f",
   "metadata": {},
   "source": [
    "\n",
    "---\n",
    "\n",
    "# 📝 Örnek: Öğrenci Sınıfı\n",
    "\n",
    "## Soru:\n",
    "- Bir `Ogrenci` sınıfı oluştur.  \n",
    "- Her öğrenci nesnesi **ad**, **soyad**, ve **not** bilgisine sahip olsun.  \n",
    "- `__init__` kullanarak nesne oluşturulduğunda bu değerler atanmalı.  \n",
    "- `bilgileri_goster()` metodu, öğrencinin bilgilerini ekrana yazsın.  \n",
    "- `notu_guncelle(yeni_not)` metodu, öğrencinin notunu güncellesin."
   ]
  },
  {
   "cell_type": "code",
   "execution_count": 11,
   "id": "ee34d812",
   "metadata": {},
   "outputs": [
    {
     "name": "stdout",
     "output_type": "stream",
     "text": [
      "Öğrenci: Hüseyin Doğan, Not: 75\n",
      "Öğrenci: Elif Doğan, Not: 90\n"
     ]
    }
   ],
   "source": [
    "class Ögrenci:\n",
    "    def __init__(self,ad,soyad,notu):\n",
    "        self.ad = ad\n",
    "        self.soyad = soyad \n",
    "        self.notu = notu\n",
    "\n",
    "    def ogren_bilgi(self):\n",
    "        print(f\"Öğrenci: {self.ad} {self.soyad}, Not: {self.notu}\")\n",
    "\n",
    "ogr1 =  Ögrenci(\"Hüseyin\", \"Doğan\", 75)\n",
    "ogr2 = Ögrenci(\"Elif\", \"Doğan\", 90)\n",
    "\n",
    "ogr1.ogren_bilgi()\n",
    "ogr2.ogren_bilgi()"
   ]
  },
  {
   "cell_type": "markdown",
   "id": "f5650bfb",
   "metadata": {},
   "source": [
    "----\n",
    "\n",
    "# 📝 Örnek: Kitap Sınıfı\n",
    "\n",
    "## Soru:\n",
    "- Bir `Kitap` sınıfı oluştur.  \n",
    "- Her kitap nesnesi **isim**, **yazar**, ve **sayfa sayısı** bilgisine sahip olsun.  \n",
    "- `__init__` kullanarak nesne oluşturulduğunda bu değerler atanmalı.  \n",
    "- `bilgileri_goster()` metodu, kitabın bilgilerini ekrana yazsın.  \n",
    "- `sayfa_ekle(yeni_sayfa)` metodu, kitabın sayfa sayısını güncellesin."
   ]
  },
  {
   "cell_type": "code",
   "execution_count": 13,
   "id": "907d1bc3",
   "metadata": {},
   "outputs": [
    {
     "name": "stdout",
     "output_type": "stream",
     "text": [
      "Kitap: Python 101, Yazar: Ali Demir, Sayfa: 250\n",
      "Kitap: Veri Bilimi, Yazar: Ayşe Yılmaz, Sayfa: 300\n",
      "Kitap: Python 101, Yazar: Ali Demir, Sayfa: 300\n"
     ]
    }
   ],
   "source": [
    "class kitap:\n",
    "    def __init__(self,isim,yazar,sayfa):\n",
    "        self.isim = isim\n",
    "        self.yazar = yazar\n",
    "        self.sayfa = sayfa\n",
    "\n",
    "    def bilgi_göster(self):\n",
    "        print(f\"Kitap: {self.isim}, Yazar: {self.yazar}, Sayfa: {self.sayfa}\")\n",
    "\n",
    "    def sayfa_ekle(self,yeni_sayfa):\n",
    "        self.sayfa  +=  yeni_sayfa\n",
    "\n",
    "kitap1 = kitap(\"Python 101\", \"Ali Demir\", 250)\n",
    "kitap2 = kitap(\"Veri Bilimi\", \"Ayşe Yılmaz\", 300)\n",
    "\n",
    "# Bilgileri göster\n",
    "kitap1.bilgi_göster()\n",
    "kitap2.bilgi_göster()\n",
    "\n",
    "# Sayfa ekle\n",
    "kitap1.sayfa_ekle(50)\n",
    "kitap1.bilgi_göster()"
   ]
  },
  {
   "cell_type": "markdown",
   "id": "b37cb9a3",
   "metadata": {},
   "source": [
    "---\n",
    "\n",
    "# 🔹 Python `super()` Fonksiyonu\n",
    "\n",
    "## 1️⃣ `super()` Nedir?\n",
    "- `super()`, **bir sınıfın üst sınıfına (parent class) erişmek** için kullanılan özel bir fonksiyondur.  \n",
    "- Özellikle **inheritance (miras alma)** yani **sınıflar arası kalıtım** kullanıldığında önemlidir.  \n",
    "- Üst sınıfın metotlarını **tekrar yazmadan** (override etmeden) çağırmamızı sağlar.\n",
    "\n",
    "\n",
    "\n",
    "## 2️⃣ Neden Kullanılır?\n",
    "1. **Üst sınıfın `__init__` metodunu çağırmak** için.  \n",
    "2. **Metotları tekrar yazarken üst sınıfın davranışını korumak** için.  \n",
    "3. Karmaşık **çoklu kalıtım** durumlarında nesneleri düzgün başlatmak için.\n",
    "\n",
    "\n"
   ]
  },
  {
   "cell_type": "code",
   "execution_count": 14,
   "id": "4b8657ed",
   "metadata": {},
   "outputs": [],
   "source": [
    "# ÜST SINIF\n",
    "\n",
    "class Personel:\n",
    "    def __init__(self, ad, yas):\n",
    "        self.ad = ad\n",
    "        self.yas = yas\n",
    "\n",
    "    def bilgileri_goster(self):\n",
    "        print(f\"Ad: {self.ad}, Yaş: {self.yas}\")"
   ]
  },
  {
   "cell_type": "code",
   "execution_count": 17,
   "id": "982b89a0",
   "metadata": {},
   "outputs": [],
   "source": [
    "# Alt sınıf\n",
    "class Mudur(Personel):\n",
    "    def __init__(self, ad, yas, departman):\n",
    "        super().__init__(ad, yas)  # Üst sınıfın __init__ fonksiyonunu çağır\n",
    "        self.departman = departman\n",
    "\n",
    "    def bilgileri_goster(self):\n",
    "        super().bilgileri_goster()  # Üst sınıfın bilgileri_goster metodunu çağır\n",
    "        print(f\"Departman: {self.departman}\")"
   ]
  },
  {
   "cell_type": "code",
   "execution_count": 18,
   "id": "16ecff30",
   "metadata": {},
   "outputs": [
    {
     "name": "stdout",
     "output_type": "stream",
     "text": [
      "Ad: Ahmet, Yaş: 40\n",
      "Departman: IT\n"
     ]
    }
   ],
   "source": [
    "mudur1 = Mudur(\"Ahmet\", 40, \"IT\")\n",
    "mudur1.bilgileri_goster()"
   ]
  },
  {
   "cell_type": "markdown",
   "id": "596e08d7",
   "metadata": {},
   "source": [
    "----"
   ]
  },
  {
   "cell_type": "markdown",
   "id": "8d157716",
   "metadata": {},
   "source": [
    "# 🔹 Python OOP Pipeline: self → __init__ → super()\n",
    "\n",
    "```text\n",
    "🌟 Nesne Oluşturma\n",
    "┌──────────────────────────────┐\n",
    "│ Mudur(\"Ahmet\", 40, \"IT\")     │\n",
    "└───────────────┬──────────────┘\n",
    "                │\n",
    "                ▼\n",
    "🟦 Alt Sınıf __init__\n",
    "┌──────────────────────────────┐\n",
    "│ Mudur.__init__(self, ad, yas, departman) │\n",
    "│  ├─ self.ad = ad             │\n",
    "│  ├─ self.yas = yas           │\n",
    "│  └─ self.departman = departman│\n",
    "└───────────────┬──────────────┘\n",
    "                │\n",
    "                ▼\n",
    "🟩 super() ile Üst Sınıf __init__\n",
    "┌──────────────────────────────┐\n",
    "│ super().__init__(ad, yas)    │\n",
    "│  ├─ Personel.__init__(self, ad, yas) │\n",
    "│  │   ├─ self.ad = ad         │\n",
    "│  │   └─ self.yas = yas       │\n",
    "└───────────────┬──────────────┘\n",
    "                │\n",
    "                ▼\n",
    "🟪 Nesne Hazır\n",
    "┌──────────────────────────────┐\n",
    "│ Mudur nesnesi:              │\n",
    "│  ├─ ad: \"Ahmet\"             │\n",
    "│  ├─ yas: 40                 │\n",
    "│  └─ departman: \"IT\"         │\n",
    "└───────────────┬──────────────┘\n",
    "                │\n",
    "                ▼\n",
    "⚡ Metot Kullanımı\n",
    "┌──────────────────────────────┐\n",
    "│ mudur1.bilgileri_goster()    │\n",
    "└──────────────────────────────┘\n"
   ]
  },
  {
   "cell_type": "markdown",
   "id": "a132c447",
   "metadata": {},
   "source": []
  }
 ],
 "metadata": {
  "kernelspec": {
   "display_name": "Python (torch_env)",
   "language": "python",
   "name": "torch_env"
  },
  "language_info": {
   "codemirror_mode": {
    "name": "ipython",
    "version": 3
   },
   "file_extension": ".py",
   "mimetype": "text/x-python",
   "name": "python",
   "nbconvert_exporter": "python",
   "pygments_lexer": "ipython3",
   "version": "3.12.5"
  }
 },
 "nbformat": 4,
 "nbformat_minor": 5
}
